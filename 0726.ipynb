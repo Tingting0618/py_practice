{
 "cells": [
  {
   "cell_type": "code",
   "execution_count": 1,
   "id": "chubby-apache",
   "metadata": {},
   "outputs": [
    {
     "name": "stdout",
     "output_type": "stream",
     "text": [
      "a\n",
      "b\n",
      "c\n"
     ]
    }
   ],
   "source": [
    "l=['c','b','a']\n",
    "for i in range(len(l)-1,-1,-1):\n",
    "    print(l[i])"
   ]
  },
  {
   "cell_type": "code",
   "execution_count": 2,
   "id": "transsexual-standing",
   "metadata": {},
   "outputs": [
    {
     "name": "stdout",
     "output_type": "stream",
     "text": [
      "a\n",
      "b\n",
      "c\n"
     ]
    }
   ],
   "source": [
    "s='cba'\n",
    "for i in range(len(s)-1,-1,-1):\n",
    "    print(s[i])"
   ]
  },
  {
   "cell_type": "code",
   "execution_count": 3,
   "id": "approximate-proposition",
   "metadata": {},
   "outputs": [
    {
     "name": "stdout",
     "output_type": "stream",
     "text": [
      "dlrow olleH\n",
      "[4, 3, 2, 1]\n"
     ]
    }
   ],
   "source": [
    "hello = \"Hello world\"\n",
    "nums = [1, 2, 3, 4]\n",
    "print(hello[::-1])\n",
    "print(nums[::-1])"
   ]
  },
  {
   "cell_type": "markdown",
   "id": "prepared-solid",
   "metadata": {},
   "source": [
    "### ListNode merge"
   ]
  },
  {
   "cell_type": "code",
   "execution_count": null,
   "id": "cordless-samoa",
   "metadata": {
    "scrolled": true
   },
   "outputs": [],
   "source": [
    "list1 = [1,2,4]\n",
    "list2 = [1,3,4]\n",
    "# Definition for singly-linked list.\n",
    "# class ListNode:\n",
    "#     def __init__(self, val=0, next=None):\n",
    "#         self.val = val\n",
    "#         self.next = next\n",
    "class Solution:\n",
    "    def mergeTwoLists(self, list1: Optional[ListNode], list2: Optional[ListNode]) -> Optional[ListNode]:\n",
    "        head = sl=ListNode(0)\n",
    "        while (list1 and list2):\n",
    "            if list1.val<list2.val:\n",
    "                sl.next = list1\n",
    "                list1=list1.next\n",
    "                sl=sl.next\n",
    "            else:\n",
    "                sl.next=list2\n",
    "                list2=list2.next\n",
    "                sl=sl.next\n",
    "        sl.next =list1 or list2\n",
    "        return head.next"
   ]
  },
  {
   "cell_type": "markdown",
   "id": "physical-glass",
   "metadata": {},
   "source": [
    "### List to str"
   ]
  },
  {
   "cell_type": "code",
   "execution_count": 23,
   "id": "weighted-african",
   "metadata": {},
   "outputs": [
    {
     "data": {
      "text/plain": [
       "'123'"
      ]
     },
     "execution_count": 23,
     "metadata": {},
     "output_type": "execute_result"
    }
   ],
   "source": [
    "digits = [1,2,3]\n",
    "str_digits = ''.join(str(i) for i in digits)\n",
    "str_digits"
   ]
  },
  {
   "cell_type": "markdown",
   "id": "looking-purse",
   "metadata": {},
   "source": [
    "### Length of Last Word"
   ]
  },
  {
   "cell_type": "code",
   "execution_count": 38,
   "id": "ideal-finding",
   "metadata": {},
   "outputs": [
    {
     "data": {
      "text/plain": [
       "['fly', 'me', '', '', 'to', '', '', 'the', 'moon']"
      ]
     },
     "execution_count": 38,
     "metadata": {},
     "output_type": "execute_result"
    }
   ],
   "source": [
    "s = \"   fly me   to   the moon  \"\n",
    "ls=s.strip(\" \").split(' ')\n",
    "ls"
   ]
  },
  {
   "cell_type": "code",
   "execution_count": 37,
   "id": "peripheral-confirmation",
   "metadata": {},
   "outputs": [
    {
     "data": {
      "text/plain": [
       "'moon'"
      ]
     },
     "execution_count": 37,
     "metadata": {},
     "output_type": "execute_result"
    }
   ],
   "source": [
    "ls[-1]"
   ]
  },
  {
   "cell_type": "markdown",
   "id": "chicken-employment",
   "metadata": {},
   "source": [
    "### Remove Duplicates from Sorted Array"
   ]
  },
  {
   "cell_type": "code",
   "execution_count": 39,
   "id": "authentic-gospel",
   "metadata": {},
   "outputs": [],
   "source": [
    "nums = [1,1,2]"
   ]
  },
  {
   "cell_type": "code",
   "execution_count": 43,
   "id": "independent-quantum",
   "metadata": {},
   "outputs": [],
   "source": [
    "init=nums[0]\n",
    "cnt=1\n",
    "for i in range(len(nums)):\n",
    "    if nums[i]>init:\n",
    "        init = nums[i]\n",
    "        nums[cnt] = init\n",
    "        cnt=cnt+1\n",
    "#return cnt"
   ]
  },
  {
   "cell_type": "markdown",
   "id": "upper-theme",
   "metadata": {},
   "source": [
    "### Add Binary"
   ]
  },
  {
   "cell_type": "code",
   "execution_count": 53,
   "id": "straight-footage",
   "metadata": {},
   "outputs": [],
   "source": [
    "a = \"11\"\n",
    "b = \"1\""
   ]
  },
  {
   "cell_type": "code",
   "execution_count": 70,
   "id": "satisfactory-processing",
   "metadata": {},
   "outputs": [
    {
     "data": {
      "text/plain": [
       "3"
      ]
     },
     "execution_count": 70,
     "metadata": {},
     "output_type": "execute_result"
    }
   ],
   "source": [
    "7//2 #floor"
   ]
  },
  {
   "cell_type": "code",
   "execution_count": 71,
   "id": "enormous-request",
   "metadata": {},
   "outputs": [
    {
     "data": {
      "text/plain": [
       "1"
      ]
     },
     "execution_count": 71,
     "metadata": {},
     "output_type": "execute_result"
    }
   ],
   "source": [
    "7%2 #reminder"
   ]
  },
  {
   "cell_type": "code",
   "execution_count": null,
   "id": "fitted-engine",
   "metadata": {},
   "outputs": [],
   "source": [
    "carry, summ, a, b  = 0, \"\", list(a), list(b)\n",
    "\n",
    "while a or b:\n",
    "    if a : carry += int(a.pop())\n",
    "    if b : carry += int(b.pop())\n",
    "    summ = str(carry % 2) + summ\n",
    "    carry  = carry //2\n",
    "\n",
    "return '1' + summ if carry == 1 else summ"
   ]
  },
  {
   "cell_type": "markdown",
   "id": "other-starter",
   "metadata": {},
   "source": [
    "### Parentheses"
   ]
  },
  {
   "cell_type": "code",
   "execution_count": 73,
   "id": "material-animation",
   "metadata": {},
   "outputs": [
    {
     "name": "stdout",
     "output_type": "stream",
     "text": [
      "False\n"
     ]
    }
   ],
   "source": [
    "for i in range(int(len(s)/2)):\n",
    "    s=s.replace('()',\"\").replace('[]',\"\").replace('{}',\"\")\n",
    "if len(s)>0: \n",
    "    print(False) \n",
    "else:\n",
    "    print(True) "
   ]
  },
  {
   "cell_type": "markdown",
   "id": "twelve-sacramento",
   "metadata": {},
   "source": [
    "### Insert position"
   ]
  },
  {
   "cell_type": "code",
   "execution_count": 19,
   "id": "protective-portsmouth",
   "metadata": {},
   "outputs": [
    {
     "data": {
      "text/plain": [
       "1"
      ]
     },
     "execution_count": 19,
     "metadata": {},
     "output_type": "execute_result"
    }
   ],
   "source": [
    "nums = [1,3,5,6]\n",
    "target = 2\n",
    "position = 0\n",
    "for i in range(len(nums)):\n",
    "    if (nums[i]<target):\n",
    "        position +=1\n",
    "    else:\n",
    "        break\n",
    "position"
   ]
  },
  {
   "cell_type": "markdown",
   "id": "trying-external",
   "metadata": {},
   "source": [
    "### IN and FIND"
   ]
  },
  {
   "cell_type": "code",
   "execution_count": 22,
   "id": "threatened-possession",
   "metadata": {},
   "outputs": [
    {
     "name": "stdout",
     "output_type": "stream",
     "text": [
      "2\n"
     ]
    }
   ],
   "source": [
    "haystack = \"hello\" \n",
    "needle = \"ll\"\n",
    "if needle ==\"\":\n",
    "    print(0) \n",
    "elif needle in haystack:\n",
    "    print(haystack.find(needle)) \n",
    "else:\n",
    "    print(-1) "
   ]
  },
  {
   "cell_type": "markdown",
   "id": "outer-discrimination",
   "metadata": {},
   "source": [
    "### Remove Element"
   ]
  },
  {
   "cell_type": "code",
   "execution_count": 40,
   "id": "afraid-priest",
   "metadata": {},
   "outputs": [],
   "source": [
    "nums = [0,1,2,2,3,0,4,2]\n",
    "val = 2\n",
    "\n",
    "cnt=0-1\n",
    "for i in range(0,len(nums)):\n",
    "    if nums[i]!=val:\n",
    "        cnt+=1\n",
    "        nums[cnt] =nums[i]"
   ]
  },
  {
   "cell_type": "code",
   "execution_count": 41,
   "id": "offshore-andorra",
   "metadata": {},
   "outputs": [
    {
     "data": {
      "text/plain": [
       "[0, 1, 3, 0, 4, 0, 4, 2]"
      ]
     },
     "execution_count": 41,
     "metadata": {},
     "output_type": "execute_result"
    }
   ],
   "source": [
    "nums"
   ]
  },
  {
   "cell_type": "code",
   "execution_count": 42,
   "id": "short-antigua",
   "metadata": {},
   "outputs": [
    {
     "data": {
      "text/plain": [
       "4"
      ]
     },
     "execution_count": 42,
     "metadata": {},
     "output_type": "execute_result"
    }
   ],
   "source": [
    "cnt"
   ]
  },
  {
   "cell_type": "markdown",
   "id": "discrete-bunny",
   "metadata": {},
   "source": [
    "### Sqrt(x)"
   ]
  },
  {
   "cell_type": "code",
   "execution_count": 114,
   "id": "falling-underground",
   "metadata": {},
   "outputs": [],
   "source": [
    "def sqrt_new(x):\n",
    "    l=1\n",
    "    r=x\n",
    "    \n",
    "    if x<2:\n",
    "        return x\n",
    "    else:\n",
    "        while l<r:\n",
    "            mid =int((l+r)/2)\n",
    "            if mid**2 == x:\n",
    "                return mid\n",
    "            elif mid**2 >x:\n",
    "                r=mid\n",
    "            else:\n",
    "                l=mid+1\n",
    "        return (l-1)"
   ]
  },
  {
   "cell_type": "code",
   "execution_count": 115,
   "id": "mathematical-hampshire",
   "metadata": {},
   "outputs": [
    {
     "data": {
      "text/plain": [
       "2"
      ]
     },
     "execution_count": 115,
     "metadata": {},
     "output_type": "execute_result"
    }
   ],
   "source": [
    "sqrt_new(8)"
   ]
  },
  {
   "cell_type": "markdown",
   "id": "selected-greek",
   "metadata": {},
   "source": [
    "### prefix"
   ]
  },
  {
   "cell_type": "code",
   "execution_count": 4,
   "id": "american-valentine",
   "metadata": {},
   "outputs": [],
   "source": [
    "# strs = [\"flower\",\"flow\",\"flight\"]\n",
    "strs = [\"dog\",\"racecar\",\"car\"]\n",
    "# strs=['a']"
   ]
  },
  {
   "cell_type": "code",
   "execution_count": 5,
   "id": "foreign-acquisition",
   "metadata": {},
   "outputs": [],
   "source": [
    "# s=len(strs[0])\n",
    "# for i in strs:\n",
    "#     if len(i)<=s:\n",
    "#         s=len(i)\n",
    "s = len(min(strs,key=len))\n",
    "\n",
    "cnt=1\n",
    "for j in range(s):\n",
    "    temp=0\n",
    "    for i in range(len(strs)):\n",
    "        if strs[i][:cnt]==strs[0][:cnt]:\n",
    "            temp = temp + 1\n",
    "    if temp == len(strs):\n",
    "        cnt+=1    "
   ]
  },
  {
   "cell_type": "code",
   "execution_count": 6,
   "id": "elementary-poison",
   "metadata": {},
   "outputs": [
    {
     "data": {
      "text/plain": [
       "''"
      ]
     },
     "execution_count": 6,
     "metadata": {},
     "output_type": "execute_result"
    }
   ],
   "source": [
    "pf=strs[0][:(cnt-1)]\n",
    "pf"
   ]
  },
  {
   "cell_type": "markdown",
   "id": "global-plain",
   "metadata": {},
   "source": [
    "### climb stairs"
   ]
  },
  {
   "cell_type": "code",
   "execution_count": 34,
   "id": "julian-station",
   "metadata": {},
   "outputs": [],
   "source": [
    "n=2"
   ]
  },
  {
   "cell_type": "code",
   "execution_count": 35,
   "id": "seven-owner",
   "metadata": {},
   "outputs": [
    {
     "name": "stdout",
     "output_type": "stream",
     "text": [
      "2 0 2\n",
      "0 1 1\n"
     ]
    }
   ],
   "source": [
    "import math\n",
    "\n",
    "summ=0\n",
    "for i in range(n//2+1):\n",
    "    n1= n-i*2\n",
    "    n2= i\n",
    "    nt=n1+n2\n",
    "    print(n1,n2,nt)\n",
    "    \n",
    "    p=math.comb(nt, n1)\n",
    "    summ+=p"
   ]
  },
  {
   "cell_type": "code",
   "execution_count": 36,
   "id": "continent-tribute",
   "metadata": {},
   "outputs": [
    {
     "data": {
      "text/plain": [
       "2"
      ]
     },
     "execution_count": 36,
     "metadata": {},
     "output_type": "execute_result"
    }
   ],
   "source": [
    "summ"
   ]
  },
  {
   "cell_type": "markdown",
   "id": "fuzzy-recall",
   "metadata": {},
   "source": [
    "### string"
   ]
  },
  {
   "cell_type": "code",
   "execution_count": 44,
   "id": "operating-clinton",
   "metadata": {},
   "outputs": [
    {
     "data": {
      "text/plain": [
       "'raceacar'"
      ]
     },
     "execution_count": 44,
     "metadata": {},
     "output_type": "execute_result"
    }
   ],
   "source": [
    "import re\n",
    "s = \"race a car\"\n",
    "s=re.sub(r'[^a-zA-Z0-9]', '',s).lower()\n",
    "s"
   ]
  },
  {
   "cell_type": "code",
   "execution_count": 45,
   "id": "handy-words",
   "metadata": {},
   "outputs": [
    {
     "data": {
      "text/plain": [
       "'racaecar'"
      ]
     },
     "execution_count": 45,
     "metadata": {},
     "output_type": "execute_result"
    }
   ],
   "source": [
    "s[::-1]"
   ]
  },
  {
   "cell_type": "code",
   "execution_count": 46,
   "id": "super-mouth",
   "metadata": {},
   "outputs": [
    {
     "data": {
      "text/plain": [
       "True"
      ]
     },
     "execution_count": 46,
     "metadata": {},
     "output_type": "execute_result"
    }
   ],
   "source": [
    "s.isalnum()"
   ]
  },
  {
   "cell_type": "code",
   "execution_count": 51,
   "id": "historical-absolute",
   "metadata": {},
   "outputs": [],
   "source": [
    "s = \"race a car\""
   ]
  },
  {
   "cell_type": "code",
   "execution_count": 54,
   "id": "ranging-people",
   "metadata": {},
   "outputs": [],
   "source": [
    "new_s = ''.join(c.lower() for c in s if c.isalnum())"
   ]
  },
  {
   "cell_type": "code",
   "execution_count": 55,
   "id": "random-hawaiian",
   "metadata": {},
   "outputs": [
    {
     "data": {
      "text/plain": [
       "'raceacar'"
      ]
     },
     "execution_count": 55,
     "metadata": {},
     "output_type": "execute_result"
    }
   ],
   "source": [
    "new_s"
   ]
  },
  {
   "cell_type": "code",
   "execution_count": 28,
   "id": "curious-elephant",
   "metadata": {},
   "outputs": [],
   "source": [
    "s=\"aNagram\"\n",
    "t=\"nagaram\""
   ]
  },
  {
   "cell_type": "code",
   "execution_count": 29,
   "id": "exposed-sandwich",
   "metadata": {},
   "outputs": [],
   "source": [
    "def isAnagram(self, s: str, t: str) -> bool:\n",
    "    \n",
    "    if sorted(s)==sorted(t):\n",
    "        return True\n",
    "    else:\n",
    "        return False"
   ]
  },
  {
   "cell_type": "code",
   "execution_count": 30,
   "id": "parliamentary-assessment",
   "metadata": {},
   "outputs": [
    {
     "data": {
      "text/plain": [
       "['N', 'a', 'a', 'a', 'g', 'm', 'r']"
      ]
     },
     "execution_count": 30,
     "metadata": {},
     "output_type": "execute_result"
    }
   ],
   "source": [
    "sorted(s)"
   ]
  },
  {
   "cell_type": "code",
   "execution_count": 31,
   "id": "anticipated-harvest",
   "metadata": {},
   "outputs": [
    {
     "data": {
      "text/plain": [
       "['n', 'a', 'a', 'a', 'g', 'm', 'r']"
      ]
     },
     "execution_count": 31,
     "metadata": {},
     "output_type": "execute_result"
    }
   ],
   "source": [
    "[i.lower() for i in sorted(s)]"
   ]
  },
  {
   "cell_type": "code",
   "execution_count": 33,
   "id": "mysterious-negative",
   "metadata": {},
   "outputs": [],
   "source": [
    "#Time, compare O(n) and sort O(n log n)\n",
    "#Space, O(n)"
   ]
  },
  {
   "cell_type": "markdown",
   "id": "positive-houston",
   "metadata": {},
   "source": [
    "### Binary Tree"
   ]
  },
  {
   "cell_type": "code",
   "execution_count": 34,
   "id": "complimentary-failing",
   "metadata": {
    "collapsed": true
   },
   "outputs": [
    {
     "ename": "NameError",
     "evalue": "name 'Optional' is not defined",
     "output_type": "error",
     "traceback": [
      "\u001b[0;31m---------------------------------------------------------------------------\u001b[0m",
      "\u001b[0;31mNameError\u001b[0m                                 Traceback (most recent call last)",
      "\u001b[0;32m<ipython-input-34-6deecf7ad066>\u001b[0m in \u001b[0;36m<module>\u001b[0;34m\u001b[0m\n\u001b[0;32m----> 1\u001b[0;31m \u001b[0;32mdef\u001b[0m \u001b[0minvertTree\u001b[0m\u001b[0;34m(\u001b[0m\u001b[0mself\u001b[0m\u001b[0;34m,\u001b[0m \u001b[0mroot\u001b[0m\u001b[0;34m:\u001b[0m \u001b[0mOptional\u001b[0m\u001b[0;34m[\u001b[0m\u001b[0mTreeNode\u001b[0m\u001b[0;34m]\u001b[0m\u001b[0;34m)\u001b[0m \u001b[0;34m->\u001b[0m \u001b[0mOptional\u001b[0m\u001b[0;34m[\u001b[0m\u001b[0mTreeNode\u001b[0m\u001b[0;34m]\u001b[0m\u001b[0;34m:\u001b[0m\u001b[0;34m\u001b[0m\u001b[0;34m\u001b[0m\u001b[0m\n\u001b[0m\u001b[1;32m      2\u001b[0m     \u001b[0;32mif\u001b[0m \u001b[0mroot\u001b[0m \u001b[0;32mis\u001b[0m \u001b[0;32mNone\u001b[0m\u001b[0;34m:\u001b[0m\u001b[0;34m\u001b[0m\u001b[0;34m\u001b[0m\u001b[0m\n\u001b[1;32m      3\u001b[0m         \u001b[0;32mreturn\u001b[0m \u001b[0;32mNone\u001b[0m\u001b[0;34m\u001b[0m\u001b[0;34m\u001b[0m\u001b[0m\n\u001b[1;32m      4\u001b[0m     \u001b[0mroot\u001b[0m\u001b[0;34m.\u001b[0m\u001b[0mleft\u001b[0m\u001b[0;34m,\u001b[0m\u001b[0mroot\u001b[0m\u001b[0;34m.\u001b[0m\u001b[0mright\u001b[0m\u001b[0;34m=\u001b[0m\u001b[0mself\u001b[0m\u001b[0;34m.\u001b[0m\u001b[0minvertTree\u001b[0m\u001b[0;34m(\u001b[0m\u001b[0mroot\u001b[0m\u001b[0;34m.\u001b[0m\u001b[0mright\u001b[0m\u001b[0;34m)\u001b[0m\u001b[0;34m,\u001b[0m\u001b[0mself\u001b[0m\u001b[0;34m.\u001b[0m\u001b[0minvertTree\u001b[0m\u001b[0;34m(\u001b[0m\u001b[0mroot\u001b[0m\u001b[0;34m.\u001b[0m\u001b[0mleft\u001b[0m\u001b[0;34m)\u001b[0m\u001b[0;34m\u001b[0m\u001b[0;34m\u001b[0m\u001b[0m\n\u001b[1;32m      5\u001b[0m     \u001b[0;32mreturn\u001b[0m \u001b[0mroot\u001b[0m\u001b[0;34m\u001b[0m\u001b[0;34m\u001b[0m\u001b[0m\n",
      "\u001b[0;31mNameError\u001b[0m: name 'Optional' is not defined"
     ]
    }
   ],
   "source": [
    "def invertTree(self, root: Optional[TreeNode]) -> Optional[TreeNode]:\n",
    "    if root is None:\n",
    "        return None\n",
    "    root.left,root.right=self.invertTree(root.right),self.invertTree(root.left)\n",
    "    return root"
   ]
  },
  {
   "cell_type": "code",
   "execution_count": null,
   "id": "radical-nitrogen",
   "metadata": {},
   "outputs": [],
   "source": [
    "### "
   ]
  },
  {
   "cell_type": "code",
   "execution_count": 50,
   "id": "divided-freeze",
   "metadata": {},
   "outputs": [],
   "source": [
    "nums=[2,5]\n",
    "target = 5"
   ]
  },
  {
   "cell_type": "code",
   "execution_count": 53,
   "id": "consecutive-subsection",
   "metadata": {},
   "outputs": [],
   "source": [
    "l=0\n",
    "r=len(nums)-1\n",
    "if target == nums[0]:\n",
    "    index = 0\n",
    "else:\n",
    "    index = -1\n",
    "\n",
    "    while l<r: \n",
    "        m = int((l+r)/2)+1\n",
    "        if target > nums[m]:\n",
    "            l=m+1\n",
    "        elif target <nums[m]:\n",
    "            r=m-1\n",
    "        elif target == nums[m]:\n",
    "            index = m\n",
    "            break"
   ]
  },
  {
   "cell_type": "code",
   "execution_count": 54,
   "id": "voluntary-shirt",
   "metadata": {},
   "outputs": [
    {
     "data": {
      "text/plain": [
       "1"
      ]
     },
     "execution_count": 54,
     "metadata": {},
     "output_type": "execute_result"
    }
   ],
   "source": [
    "index"
   ]
  },
  {
   "cell_type": "code",
   "execution_count": 57,
   "id": "revolutionary-forwarding",
   "metadata": {},
   "outputs": [
    {
     "data": {
      "text/plain": [
       "3"
      ]
     },
     "execution_count": 57,
     "metadata": {},
     "output_type": "execute_result"
    }
   ],
   "source": [
    "7//2"
   ]
  },
  {
   "cell_type": "markdown",
   "id": "gothic-shopping",
   "metadata": {},
   "source": [
    "### Dynamic"
   ]
  },
  {
   "cell_type": "code",
   "execution_count": 82,
   "id": "artistic-spyware",
   "metadata": {},
   "outputs": [],
   "source": [
    "nums = [-1]"
   ]
  },
  {
   "cell_type": "code",
   "execution_count": 73,
   "id": "legislative-throw",
   "metadata": {},
   "outputs": [
    {
     "name": "stdout",
     "output_type": "stream",
     "text": [
      "0\n",
      "0\n",
      "1\n"
     ]
    }
   ],
   "source": [
    "# Brute Force\n",
    "class Solution:\n",
    "    def maxSubArray(self, nums: List[int]) -> int:\n",
    "        maxsum=-math.inf\n",
    "        for s in range(len(nums)): \n",
    "            for e in range(s+1,len(nums)+1):\n",
    "                if sum(nums[s:e])>maxsum:\n",
    "                    maxsum=sum(nums[s:e])\n",
    "        return maxsum"
   ]
  },
  {
   "cell_type": "code",
   "execution_count": null,
   "id": "polar-shelf",
   "metadata": {},
   "outputs": [],
   "source": [
    "class Solution:\n",
    "    def maxSubArray(self, nums: List[int]) -> int:\n",
    "        maxsub=cursub=nums[0]\n",
    "        \n",
    "        for num in nums[1:]:\n",
    "            \n",
    "            cursub = max(num,cursub+num)\n",
    "            maxsub = max(maxsub,cursub)\n",
    "        \n",
    "        return maxsub"
   ]
  },
  {
   "cell_type": "markdown",
   "id": "atlantic-croatia",
   "metadata": {},
   "source": [
    "### Binary Search Tree"
   ]
  },
  {
   "cell_type": "code",
   "execution_count": null,
   "id": "central-coordinator",
   "metadata": {},
   "outputs": [],
   "source": [
    "class Solution:\n",
    "    def lowestCommonAncestor(self, root: 'TreeNode', p: 'TreeNode', q: 'TreeNode') -> 'TreeNode':\n",
    "        if p.val > root.val and q.val >root.val:\n",
    "            return self.lowestCommonAncestor(root.right,p,q)\n",
    "        elif p.val < root.val and q.val <root.val:\n",
    "            return self.lowestCommonAncestor(root.left,p,q)\n",
    "        else:\n",
    "            return root"
   ]
  },
  {
   "cell_type": "markdown",
   "id": "unknown-standing",
   "metadata": {},
   "source": [
    "### Map vs Set"
   ]
  },
  {
   "cell_type": "code",
   "execution_count": 92,
   "id": "rental-style",
   "metadata": {},
   "outputs": [],
   "source": [
    "a=set()"
   ]
  },
  {
   "cell_type": "code",
   "execution_count": 93,
   "id": "hundred-conversion",
   "metadata": {},
   "outputs": [],
   "source": [
    "a.add(1)"
   ]
  },
  {
   "cell_type": "code",
   "execution_count": 94,
   "id": "threaded-turning",
   "metadata": {},
   "outputs": [],
   "source": [
    "a.add(1)"
   ]
  },
  {
   "cell_type": "code",
   "execution_count": 95,
   "id": "needed-bones",
   "metadata": {},
   "outputs": [
    {
     "data": {
      "text/plain": [
       "{1}"
      ]
     },
     "execution_count": 95,
     "metadata": {},
     "output_type": "execute_result"
    }
   ],
   "source": [
    "a"
   ]
  },
  {
   "cell_type": "code",
   "execution_count": 97,
   "id": "direct-version",
   "metadata": {},
   "outputs": [],
   "source": [
    "a={}"
   ]
  },
  {
   "cell_type": "code",
   "execution_count": 99,
   "id": "theoretical-tracker",
   "metadata": {},
   "outputs": [],
   "source": [
    "a['hello']='world'"
   ]
  },
  {
   "cell_type": "code",
   "execution_count": 100,
   "id": "registered-cancellation",
   "metadata": {},
   "outputs": [
    {
     "data": {
      "text/plain": [
       "{'hello': 'world'}"
      ]
     },
     "execution_count": 100,
     "metadata": {},
     "output_type": "execute_result"
    }
   ],
   "source": [
    "a"
   ]
  },
  {
   "cell_type": "markdown",
   "id": "active-composer",
   "metadata": {},
   "source": [
    "### LinkNode Cycle"
   ]
  },
  {
   "cell_type": "code",
   "execution_count": null,
   "id": "pediatric-phenomenon",
   "metadata": {},
   "outputs": [],
   "source": []
  },
  {
   "cell_type": "markdown",
   "id": "organized-addiction",
   "metadata": {},
   "source": [
    "### collections.Counter(s)"
   ]
  },
  {
   "cell_type": "code",
   "execution_count": 118,
   "id": "august-dealer",
   "metadata": {},
   "outputs": [
    {
     "data": {
      "text/plain": [
       "Counter({'a': 1})"
      ]
     },
     "execution_count": 118,
     "metadata": {},
     "output_type": "execute_result"
    }
   ],
   "source": [
    "import collections\n",
    "s = \"a\"\n",
    "collections.Counter(s)"
   ]
  },
  {
   "cell_type": "code",
   "execution_count": 122,
   "id": "unexpected-shopping",
   "metadata": {},
   "outputs": [
    {
     "name": "stdout",
     "output_type": "stream",
     "text": [
      "a 1\n"
     ]
    }
   ],
   "source": [
    "maxx = 0\n",
    "single = 0\n",
    "for i in collections.Counter(s):\n",
    "    print(i,collections.Counter(s)[i])\n",
    "    maxx += (collections.Counter(s)[i]//2 )*2\n",
    "    single += (collections.Counter(s)[i]//2 )%2"
   ]
  },
  {
   "cell_type": "code",
   "execution_count": 123,
   "id": "sharing-narrow",
   "metadata": {},
   "outputs": [
    {
     "data": {
      "text/plain": [
       "0"
      ]
     },
     "execution_count": 123,
     "metadata": {},
     "output_type": "execute_result"
    }
   ],
   "source": [
    "maxx"
   ]
  },
  {
   "cell_type": "code",
   "execution_count": 124,
   "id": "labeled-royal",
   "metadata": {},
   "outputs": [
    {
     "data": {
      "text/plain": [
       "0"
      ]
     },
     "execution_count": 124,
     "metadata": {},
     "output_type": "execute_result"
    }
   ],
   "source": [
    "single"
   ]
  },
  {
   "cell_type": "code",
   "execution_count": 115,
   "id": "three-scanner",
   "metadata": {},
   "outputs": [
    {
     "data": {
      "text/plain": [
       "3"
      ]
     },
     "execution_count": 115,
     "metadata": {},
     "output_type": "execute_result"
    }
   ],
   "source": [
    "7//2"
   ]
  },
  {
   "cell_type": "code",
   "execution_count": 116,
   "id": "worthy-adobe",
   "metadata": {},
   "outputs": [
    {
     "data": {
      "text/plain": [
       "1"
      ]
     },
     "execution_count": 116,
     "metadata": {},
     "output_type": "execute_result"
    }
   ],
   "source": [
    "7%2"
   ]
  },
  {
   "cell_type": "code",
   "execution_count": 117,
   "id": "focused-flour",
   "metadata": {},
   "outputs": [
    {
     "data": {
      "text/plain": [
       "1"
      ]
     },
     "execution_count": 117,
     "metadata": {},
     "output_type": "execute_result"
    }
   ],
   "source": [
    "1%2"
   ]
  },
  {
   "cell_type": "code",
   "execution_count": null,
   "id": "floating-rates",
   "metadata": {},
   "outputs": [],
   "source": []
  }
 ],
 "metadata": {
  "kernelspec": {
   "display_name": "Python 3",
   "language": "python",
   "name": "python3"
  },
  "language_info": {
   "codemirror_mode": {
    "name": "ipython",
    "version": 3
   },
   "file_extension": ".py",
   "mimetype": "text/x-python",
   "name": "python",
   "nbconvert_exporter": "python",
   "pygments_lexer": "ipython3",
   "version": "3.8.5"
  }
 },
 "nbformat": 4,
 "nbformat_minor": 5
}
