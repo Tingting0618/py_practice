{
 "cells": [
  {
   "cell_type": "code",
   "execution_count": 1,
   "id": "chubby-apache",
   "metadata": {},
   "outputs": [
    {
     "name": "stdout",
     "output_type": "stream",
     "text": [
      "a\n",
      "b\n",
      "c\n"
     ]
    }
   ],
   "source": [
    "l=['c','b','a']\n",
    "for i in range(len(l)-1,-1,-1):\n",
    "    print(l[i])"
   ]
  },
  {
   "cell_type": "code",
   "execution_count": 2,
   "id": "transsexual-standing",
   "metadata": {},
   "outputs": [
    {
     "name": "stdout",
     "output_type": "stream",
     "text": [
      "a\n",
      "b\n",
      "c\n"
     ]
    }
   ],
   "source": [
    "s='cba'\n",
    "for i in range(len(s)-1,-1,-1):\n",
    "    print(s[i])"
   ]
  },
  {
   "cell_type": "code",
   "execution_count": 3,
   "id": "approximate-proposition",
   "metadata": {},
   "outputs": [
    {
     "name": "stdout",
     "output_type": "stream",
     "text": [
      "dlrow olleH\n",
      "[4, 3, 2, 1]\n"
     ]
    }
   ],
   "source": [
    "hello = \"Hello world\"\n",
    "nums = [1, 2, 3, 4]\n",
    "print(hello[::-1])\n",
    "print(nums[::-1])"
   ]
  },
  {
   "cell_type": "markdown",
   "id": "prepared-solid",
   "metadata": {},
   "source": [
    "### ListNode merge"
   ]
  },
  {
   "cell_type": "code",
   "execution_count": null,
   "id": "cordless-samoa",
   "metadata": {
    "scrolled": true
   },
   "outputs": [],
   "source": [
    "list1 = [1,2,4]\n",
    "list2 = [1,3,4]\n",
    "# Definition for singly-linked list.\n",
    "# class ListNode:\n",
    "#     def __init__(self, val=0, next=None):\n",
    "#         self.val = val\n",
    "#         self.next = next\n",
    "class Solution:\n",
    "    def mergeTwoLists(self, list1: Optional[ListNode], list2: Optional[ListNode]) -> Optional[ListNode]:\n",
    "        head = sl=ListNode(0)\n",
    "        while (list1 and list2):\n",
    "            if list1.val<list2.val:\n",
    "                sl.next = list1\n",
    "                list1=list1.next\n",
    "                sl=sl.next\n",
    "            else:\n",
    "                sl.next=list2\n",
    "                list2=list2.next\n",
    "                sl=sl.next\n",
    "        sl.next =list1 or list2\n",
    "        return head.next"
   ]
  },
  {
   "cell_type": "markdown",
   "id": "physical-glass",
   "metadata": {},
   "source": [
    "### List to str"
   ]
  },
  {
   "cell_type": "code",
   "execution_count": 23,
   "id": "weighted-african",
   "metadata": {},
   "outputs": [
    {
     "data": {
      "text/plain": [
       "'123'"
      ]
     },
     "execution_count": 23,
     "metadata": {},
     "output_type": "execute_result"
    }
   ],
   "source": [
    "digits = [1,2,3]\n",
    "str_digits = ''.join(str(i) for i in digits)\n",
    "str_digits"
   ]
  },
  {
   "cell_type": "markdown",
   "id": "looking-purse",
   "metadata": {},
   "source": [
    "### Length of Last Word"
   ]
  },
  {
   "cell_type": "code",
   "execution_count": 38,
   "id": "ideal-finding",
   "metadata": {},
   "outputs": [
    {
     "data": {
      "text/plain": [
       "['fly', 'me', '', '', 'to', '', '', 'the', 'moon']"
      ]
     },
     "execution_count": 38,
     "metadata": {},
     "output_type": "execute_result"
    }
   ],
   "source": [
    "s = \"   fly me   to   the moon  \"\n",
    "ls=s.strip(\" \").split(' ')\n",
    "ls"
   ]
  },
  {
   "cell_type": "code",
   "execution_count": 37,
   "id": "peripheral-confirmation",
   "metadata": {},
   "outputs": [
    {
     "data": {
      "text/plain": [
       "'moon'"
      ]
     },
     "execution_count": 37,
     "metadata": {},
     "output_type": "execute_result"
    }
   ],
   "source": [
    "ls[-1]"
   ]
  },
  {
   "cell_type": "markdown",
   "id": "chicken-employment",
   "metadata": {},
   "source": [
    "### Remove Duplicates from Sorted Array"
   ]
  },
  {
   "cell_type": "code",
   "execution_count": 39,
   "id": "authentic-gospel",
   "metadata": {},
   "outputs": [],
   "source": [
    "nums = [1,1,2]"
   ]
  },
  {
   "cell_type": "code",
   "execution_count": 43,
   "id": "independent-quantum",
   "metadata": {},
   "outputs": [],
   "source": [
    "init=nums[0]\n",
    "cnt=1\n",
    "for i in range(len(nums)):\n",
    "    if nums[i]>init:\n",
    "        init = nums[i]\n",
    "        nums[cnt] = init\n",
    "        cnt=cnt+1\n",
    "#return cnt"
   ]
  },
  {
   "cell_type": "markdown",
   "id": "upper-theme",
   "metadata": {},
   "source": [
    "### Add Binary"
   ]
  },
  {
   "cell_type": "code",
   "execution_count": 53,
   "id": "straight-footage",
   "metadata": {},
   "outputs": [],
   "source": [
    "a = \"11\"\n",
    "b = \"1\""
   ]
  },
  {
   "cell_type": "code",
   "execution_count": 70,
   "id": "satisfactory-processing",
   "metadata": {},
   "outputs": [
    {
     "data": {
      "text/plain": [
       "3"
      ]
     },
     "execution_count": 70,
     "metadata": {},
     "output_type": "execute_result"
    }
   ],
   "source": [
    "7//2 #floor"
   ]
  },
  {
   "cell_type": "code",
   "execution_count": 71,
   "id": "enormous-request",
   "metadata": {},
   "outputs": [
    {
     "data": {
      "text/plain": [
       "1"
      ]
     },
     "execution_count": 71,
     "metadata": {},
     "output_type": "execute_result"
    }
   ],
   "source": [
    "7%2 #reminder"
   ]
  },
  {
   "cell_type": "code",
   "execution_count": null,
   "id": "fitted-engine",
   "metadata": {},
   "outputs": [],
   "source": [
    "carry, summ, a, b  = 0, \"\", list(a), list(b)\n",
    "\n",
    "while a or b:\n",
    "    if a : carry += int(a.pop())\n",
    "    if b : carry += int(b.pop())\n",
    "    summ = str(carry % 2) + summ\n",
    "    carry  = carry //2\n",
    "\n",
    "return '1' + summ if carry == 1 else summ"
   ]
  },
  {
   "cell_type": "markdown",
   "id": "other-starter",
   "metadata": {},
   "source": [
    "### Parentheses"
   ]
  },
  {
   "cell_type": "code",
   "execution_count": 73,
   "id": "material-animation",
   "metadata": {},
   "outputs": [
    {
     "name": "stdout",
     "output_type": "stream",
     "text": [
      "False\n"
     ]
    }
   ],
   "source": [
    "for i in range(int(len(s)/2)):\n",
    "    s=s.replace('()',\"\").replace('[]',\"\").replace('{}',\"\")\n",
    "if len(s)>0: \n",
    "    print(False) \n",
    "else:\n",
    "    print(True) "
   ]
  },
  {
   "cell_type": "markdown",
   "id": "twelve-sacramento",
   "metadata": {},
   "source": [
    "### Insert position"
   ]
  },
  {
   "cell_type": "code",
   "execution_count": 19,
   "id": "protective-portsmouth",
   "metadata": {},
   "outputs": [
    {
     "data": {
      "text/plain": [
       "1"
      ]
     },
     "execution_count": 19,
     "metadata": {},
     "output_type": "execute_result"
    }
   ],
   "source": [
    "nums = [1,3,5,6]\n",
    "target = 2\n",
    "position = 0\n",
    "for i in range(len(nums)):\n",
    "    if (nums[i]<target):\n",
    "        position +=1\n",
    "    else:\n",
    "        break\n",
    "position"
   ]
  },
  {
   "cell_type": "markdown",
   "id": "trying-external",
   "metadata": {},
   "source": [
    "### IN and FIND"
   ]
  },
  {
   "cell_type": "code",
   "execution_count": 22,
   "id": "threatened-possession",
   "metadata": {},
   "outputs": [
    {
     "name": "stdout",
     "output_type": "stream",
     "text": [
      "2\n"
     ]
    }
   ],
   "source": [
    "haystack = \"hello\" \n",
    "needle = \"ll\"\n",
    "if needle ==\"\":\n",
    "    print(0) \n",
    "elif needle in haystack:\n",
    "    print(haystack.find(needle)) \n",
    "else:\n",
    "    print(-1) "
   ]
  },
  {
   "cell_type": "markdown",
   "id": "outer-discrimination",
   "metadata": {},
   "source": [
    "### Remove Element"
   ]
  },
  {
   "cell_type": "code",
   "execution_count": 40,
   "id": "afraid-priest",
   "metadata": {},
   "outputs": [],
   "source": [
    "nums = [0,1,2,2,3,0,4,2]\n",
    "val = 2\n",
    "\n",
    "cnt=0-1\n",
    "for i in range(0,len(nums)):\n",
    "    if nums[i]!=val:\n",
    "        cnt+=1\n",
    "        nums[cnt] =nums[i]"
   ]
  },
  {
   "cell_type": "code",
   "execution_count": 41,
   "id": "offshore-andorra",
   "metadata": {},
   "outputs": [
    {
     "data": {
      "text/plain": [
       "[0, 1, 3, 0, 4, 0, 4, 2]"
      ]
     },
     "execution_count": 41,
     "metadata": {},
     "output_type": "execute_result"
    }
   ],
   "source": [
    "nums"
   ]
  },
  {
   "cell_type": "code",
   "execution_count": 42,
   "id": "short-antigua",
   "metadata": {},
   "outputs": [
    {
     "data": {
      "text/plain": [
       "4"
      ]
     },
     "execution_count": 42,
     "metadata": {},
     "output_type": "execute_result"
    }
   ],
   "source": [
    "cnt"
   ]
  },
  {
   "cell_type": "markdown",
   "id": "discrete-bunny",
   "metadata": {},
   "source": [
    "### Sqrt(x)"
   ]
  },
  {
   "cell_type": "code",
   "execution_count": 114,
   "id": "falling-underground",
   "metadata": {},
   "outputs": [],
   "source": [
    "def sqrt_new(x):\n",
    "    l=1\n",
    "    r=x\n",
    "    \n",
    "    if x<2:\n",
    "        return x\n",
    "    else:\n",
    "        while l<r:\n",
    "            mid =int((l+r)/2)\n",
    "            if mid**2 == x:\n",
    "                return mid\n",
    "            elif mid**2 >x:\n",
    "                r=mid\n",
    "            else:\n",
    "                l=mid+1\n",
    "        return (l-1)"
   ]
  },
  {
   "cell_type": "code",
   "execution_count": 115,
   "id": "mathematical-hampshire",
   "metadata": {},
   "outputs": [
    {
     "data": {
      "text/plain": [
       "2"
      ]
     },
     "execution_count": 115,
     "metadata": {},
     "output_type": "execute_result"
    }
   ],
   "source": [
    "sqrt_new(8)"
   ]
  },
  {
   "cell_type": "markdown",
   "id": "selected-greek",
   "metadata": {},
   "source": [
    "### prefix"
   ]
  },
  {
   "cell_type": "code",
   "execution_count": 4,
   "id": "american-valentine",
   "metadata": {},
   "outputs": [],
   "source": [
    "# strs = [\"flower\",\"flow\",\"flight\"]\n",
    "strs = [\"dog\",\"racecar\",\"car\"]\n",
    "# strs=['a']"
   ]
  },
  {
   "cell_type": "code",
   "execution_count": 5,
   "id": "foreign-acquisition",
   "metadata": {},
   "outputs": [],
   "source": [
    "# s=len(strs[0])\n",
    "# for i in strs:\n",
    "#     if len(i)<=s:\n",
    "#         s=len(i)\n",
    "s = len(min(strs,key=len))\n",
    "\n",
    "cnt=1\n",
    "for j in range(s):\n",
    "    temp=0\n",
    "    for i in range(len(strs)):\n",
    "        if strs[i][:cnt]==strs[0][:cnt]:\n",
    "            temp = temp + 1\n",
    "    if temp == len(strs):\n",
    "        cnt+=1    "
   ]
  },
  {
   "cell_type": "code",
   "execution_count": 6,
   "id": "elementary-poison",
   "metadata": {},
   "outputs": [
    {
     "data": {
      "text/plain": [
       "''"
      ]
     },
     "execution_count": 6,
     "metadata": {},
     "output_type": "execute_result"
    }
   ],
   "source": [
    "pf=strs[0][:(cnt-1)]\n",
    "pf"
   ]
  },
  {
   "cell_type": "code",
   "execution_count": null,
   "id": "hollywood-maximum",
   "metadata": {},
   "outputs": [],
   "source": []
  }
 ],
 "metadata": {
  "kernelspec": {
   "display_name": "Python 3",
   "language": "python",
   "name": "python3"
  },
  "language_info": {
   "codemirror_mode": {
    "name": "ipython",
    "version": 3
   },
   "file_extension": ".py",
   "mimetype": "text/x-python",
   "name": "python",
   "nbconvert_exporter": "python",
   "pygments_lexer": "ipython3",
   "version": "3.8.5"
  }
 },
 "nbformat": 4,
 "nbformat_minor": 5
}
